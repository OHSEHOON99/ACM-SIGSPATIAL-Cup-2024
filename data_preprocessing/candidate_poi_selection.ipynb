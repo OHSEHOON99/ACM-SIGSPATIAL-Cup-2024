{
 "cells": [
  {
   "cell_type": "markdown",
   "metadata": {},
   "source": [
    "---\n",
    "\n",
    "## POI Candidate Selection\n",
    "\n",
    "This section outlines the process of selecting POI (Point of Interest) candidates categorized by region.\n",
    "\n",
    "- The above approach represents the process of selecting POI candidates categorized by region. POI filtering was applied when selecting POI candidates for all regions.\n",
    "  \n",
    "  - Before filtering, OSM_POI data was imported, and POIs were extracted for each categorized region (Atlanta, Suburban, Rural) using GIS tools.\n",
    "  \n",
    "  - For each extracted POI candidate, filtering was performed using the 'fclass' column, which contains information about building usage, utilizing GIS tools.\n",
    "\n",
    "- **Atlanta**: Since a larger number of DCFC-type EVCS (Electric Vehicle Charging Stations) are installed in Atlanta compared to other regions, POI filtering was also conducted for DCFC installation candidates.\n",
    "\n",
    "- **Suburban and Rural regions**: A different algorithm exists for selecting DCFC installation locations in these areas, which can be found in the 'POI_init.ipynb' file.\n",
    "\n",
    "---\n",
    "\n",
    "### Summary\n",
    "\n",
    "- **Level 2 POI Candidate Selection**: Georgia, using GIS tools & filtering.\n",
    "  \n",
    "- **DCFC POI Candidate Selection**: Atlanta, using GIS tools & filtering.\n",
    "\n",
    "---"
   ]
  },
  {
   "cell_type": "markdown",
   "metadata": {},
   "source": [
    "# Level 2 POI Candidate Selection - Georgia"
   ]
  },
  {
   "cell_type": "code",
   "execution_count": null,
   "metadata": {},
   "outputs": [],
   "source": [
    "import geopandas as gpd\n",
    "\n",
    "def process_poi_data(region):\n",
    "    # Define file paths and fclass categories based on the region\n",
    "    if region == 'Atlanta':\n",
    "        gpkg_file_path = 'Path to Atlanta Regeion POI'\n",
    "        selected_fclasses = ['bank', 'fast_food', 'restaurant', 'museum', 'college', 'hospital', 'university', \n",
    "                             'town_hall', 'stadium', 'courthouse', 'public_building', 'hotel', 'pharmacy', \n",
    "                             'supermarket', 'department_store', 'gift_shop', 'car_rental', 'zoo', 'motel', \n",
    "                             'mall', 'camp_site', 'general']  # Atlanta-specific categories\n",
    "    elif region == 'Suburban':\n",
    "        gpkg_file_path = 'Path to Suburban Regeion POI'\n",
    "        selected_fclasses = ['school', 'library', 'bank', 'fast_food', 'restaurant', 'museum', 'college', \n",
    "                             'hospital', 'university', 'town_hall', 'stadium', 'courthouse', 'public_building', \n",
    "                             'hotel', 'pharmacy', 'supermarket', 'department_store', 'gift_shop', 'car_rental', \n",
    "                             'zoo', 'motel', 'mall', 'camp_site', 'general']  # Suburban-specific categories\n",
    "    elif region == 'Rural':\n",
    "        gpkg_file_path = 'Path to Rural Regeion POI'\n",
    "        selected_fclasses = ['supermarket', 'school', 'library', 'bank', 'fast_food', 'restaurant', 'museum', \n",
    "                             'college', 'hospital', 'university', 'town_hall', 'stadium', 'courthouse', \n",
    "                             'public_building', 'hotel', 'pharmacy', 'supermarket', 'department_store', \n",
    "                             'gift_shop', 'car_rental', 'zoo', 'motel', 'mall', 'camp_site', 'general']  # Rural-specific categories\n",
    "    else:\n",
    "        raise ValueError(\"Invalid region. Please select 'Atlanta', 'Suburban', or 'Rural'.\")\n",
    "\n",
    "    # Read the GPKG file\n",
    "    poi_gdf = gpd.read_file(gpkg_file_path)\n",
    "\n",
    "    # Filter the POI data based on the selected fclass categories\n",
    "    selected_poi_gdf = poi_gdf[poi_gdf['fclass'].isin(selected_fclasses)]\n",
    "    \n",
    "    # Get the count of filtered features\n",
    "    selected_feature_count = selected_poi_gdf.shape[0]\n",
    "    print(f\"Selected feature count for {region}: {selected_feature_count}\")\n",
    "    \n",
    "    # Define output file path based on region\n",
    "    output_file_path = f\"D:/GISCUP/{region}_POI_Candidate.gpkg\"\n",
    "    \n",
    "    # Save the filtered data to a new GPKG file\n",
    "    selected_poi_gdf.to_file(output_file_path, driver='GPKG')\n",
    "    print(f\"Filtered POI data saved for {region} at {output_file_path}\")\n",
    "\n",
    "# Example usage:\n",
    "process_poi_data('Atlanta')  # Call this with 'Atlanta', 'Suburban', or 'Rural' as needed\n"
   ]
  }
 ],
 "metadata": {
  "kernelspec": {
   "display_name": "jiwan",
   "language": "python",
   "name": "python3"
  },
  "language_info": {
   "codemirror_mode": {
    "name": "ipython",
    "version": 3
   },
   "file_extension": ".py",
   "mimetype": "text/x-python",
   "name": "python",
   "nbconvert_exporter": "python",
   "pygments_lexer": "ipython3",
   "version": "3.10.14"
  }
 },
 "nbformat": 4,
 "nbformat_minor": 2
}
