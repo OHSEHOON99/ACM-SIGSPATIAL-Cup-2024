{
 "cells": [
  {
   "cell_type": "markdown",
   "metadata": {},
   "source": [
    "This code processes NHTS OD data to calculate the internal traffic within counties and the inflow of external traffic."
   ]
  },
  {
   "cell_type": "code",
   "execution_count": null,
   "metadata": {},
   "outputs": [],
   "source": [
    "import geopandas as gpd\n",
    "import pandas as pd\n",
    "import numpy as np\n",
    "\n",
    "# Define input file paths\n",
    "input_files = {\n",
    "    'od_data': './Data/GDOT_2019_09.csv',  # NHTS Origin-Destination data file  \n",
    "    'county_boundaries': './Georgia_county.shp',  # Georgia county boundary file from Census\n",
    "}\n",
    "\n",
    "# Load OD data from CSV\n",
    "od_df = pd.read_csv(input_files['od_data'])\n",
    "\n",
    "# Filter rows where 'origin_zone_id' and 'destination_zone_id' have exactly 12 characters and group by zones\n",
    "od_filtered_df = od_df[\n",
    "    (od_df['origin_zone_id'].astype(str).str.len() == 12) & \n",
    "    (od_df['destination_zone_id'].astype(str).str.len() == 12)\n",
    "]\n",
    "\n",
    "# Group by 'origin_zone_id' and 'destination_zone_id', and sum 'mode_car'\n",
    "od_grouped_df = od_filtered_df.groupby(\n",
    "    ['origin_zone_id', 'destination_zone_id'], as_index=False\n",
    ")['mode_car'].sum()\n",
    "\n",
    "# Sort zones and remove duplicates by creating sorted pairs\n",
    "od_grouped_df[['origin_zone_id', 'destination_zone_id']] = pd.DataFrame(\n",
    "    np.sort(od_grouped_df[['origin_zone_id', 'destination_zone_id']], axis=1)\n",
    ")\n",
    "\n",
    "# Group by sorted pairs and sum the traffic\n",
    "od_final_df = od_grouped_df.groupby(\n",
    "    ['origin_zone_id', 'destination_zone_id'], as_index=False\n",
    ")['mode_car'].sum()\n",
    "\n",
    "# Load the county boundary shapefile\n",
    "county_boundaries_gdf = gpd.read_file(input_files['county_boundaries']).to_crs(epsg=4326)\n",
    "\n",
    "# Map from zone_id (GEOID) to county name based on 'NAMELSAD'\n",
    "zone_to_county = county_boundaries_gdf.set_index('GEOID')['NAMELSAD'].to_dict()\n",
    "\n",
    "# Map 'origin_zone_id' and 'destination_zone_id' to county names\n",
    "od_final_df['origin_county'] = od_final_df['origin_zone_id'].map(zone_to_county)\n",
    "od_final_df['destination_county'] = od_final_df['destination_zone_id'].map(zone_to_county)\n",
    "\n",
    "# Remove rows where mapping failed or origin and destination are the same\n",
    "od_final_df = od_final_df.dropna(subset=['origin_county', 'destination_county'])\n",
    "od_final_df = od_final_df[od_final_df['origin_county'] != od_final_df['destination_county']]\n",
    "\n",
    "# Group by the county pairs (sorted to ensure bi-directional traffic is combined)\n",
    "od_final_df[['origin_county', 'destination_county']] = pd.DataFrame(\n",
    "    np.sort(od_final_df[['origin_county', 'destination_county']], axis=1)\n",
    ")\n",
    "\n",
    "county_traffic_df = od_final_df.groupby(\n",
    "    ['origin_county', 'destination_county'], as_index=False\n",
    ")['mode_car'].sum()\n",
    "\n",
    "# Rename column for clarity\n",
    "county_traffic_df = county_traffic_df.rename(columns={'mode_car': 'traffic'})\n",
    "\n",
    "# Display the results\n",
    "print(county_traffic_df)"
   ]
  }
 ],
 "metadata": {
  "language_info": {
   "name": "python"
  }
 },
 "nbformat": 4,
 "nbformat_minor": 2
}
