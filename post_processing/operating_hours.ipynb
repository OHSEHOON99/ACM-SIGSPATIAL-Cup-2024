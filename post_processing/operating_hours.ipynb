{
 "cells": [
  {
   "cell_type": "markdown",
   "metadata": {},
   "source": [
    "# EVCS Candidate Site Operating Hours Assignment\n",
    "\n",
    "This code is designed to add operating hours to Electric Vehicle Charging Station (EVCS) candidate sites, which are classified into various facility classes (`fclass`). The code performs the following tasks:\n",
    "\n",
    "1. **Load GeoPackage Files**: \n",
    "   Using `geopandas`, the code reads GeoPackage (`.gpkg`) files that contain geospatial data about EVCS candidate sites.\n",
    "\n",
    "2. **Define Operating Hours Based on `fclass`**: \n",
    "   A function is defined to assign operating hours based on the facility class. For instance, banks operate from 9:00 AM to 5:00 PM, while hotels operate 24 hours a day. Different facility classes are assigned specific operating hours.\n",
    "\n",
    "3. **Assign Operating Hours**: \n",
    "   The operating hours for each candidate site are calculated and added to a new column named `operating_hours` in the GeoDataFrame.\n",
    "\n",
    "4. **Save the Updated Data**: \n",
    "   The modified data, with the newly assigned operating hours, is saved back to a GeoPackage file.\n",
    "\n",
    "5. **Process DCFC Candidates**: \n",
    "   In a separate dataset containing Direct Current Fast Charging (DCFC) candidate sites, all entries are assigned 24-hour operating hours, and the modified data is saved to a new file.\n",
    "\n",
    "In conclusion, this code automates the process of assigning operating hours to EVCS candidate sites and saves the final datasets in GeoPackage format."
   ]
  },
  {
   "cell_type": "code",
   "execution_count": null,
   "metadata": {},
   "outputs": [],
   "source": [
    "import geopandas as gpd\n",
    "\n",
    "# Load the .gpkg file\n",
    "file_path = 'C:/Users/scsi/Documents/카카오톡 받은 파일/lv_merged_real_final.gpkg'  # Replace 'your_file_path.gpkg' with the path to your .gpkg file\n",
    "data = gpd.read_file(file_path)\n",
    "\n",
    "# Get unique values from the 'fclass' column\n",
    "unique_fclass = data['fclass'].unique()\n",
    "print(\"Unique 'fclass' values:\", unique_fclass)"
   ]
  },
  {
   "cell_type": "code",
   "execution_count": null,
   "metadata": {},
   "outputs": [],
   "source": [
    "data = gpd.read_file(file_path)\n",
    "\n",
    "# Define operating hours as hour differences\n",
    "def get_operating_hours_duration(category):\n",
    "    hours = {\n",
    "        'town_hall': (8, 18),  # 8:00 AM to 6:00 PM\n",
    "        'bank': (9, 17),       # 9:00 AM to 5:00 PM\n",
    "        'hotel': (0, 24),      # 24 hours\n",
    "        'department_store': (10, 21), # 10:00 AM to 9:00 PM\n",
    "        'restaurant': (7, 23), # 7:00 AM to 11:00 PM\n",
    "        'college': (8, 22),    # 8:00 AM to 10:00 PM\n",
    "        'museum': (10, 17),    # 10:00 AM to 5:00 PM\n",
    "        'car_rental': (8, 18), # 8:00 AM to 6:00 PM\n",
    "        'camp_site': (0, 24),  # Assuming 24 hours access\n",
    "        'supermarket': (10, 21), # Treat 'None' as 'supermarket' from 10:00 AM to 9:00 PM\n",
    "        # Add more categories as needed\n",
    "    }\n",
    "    start, end = hours.get(category, (8, 18))  # Default to 8:00 AM to 6:00 PM if category not listed\n",
    "    return end - start if end >= start else (24 - start) + end\n",
    "\n",
    "# Apply the function to assign operating hour durations\n",
    "data['operating_hours'] = data['fclass'].apply(get_operating_hours_duration)\n",
    "\n",
    "# Output the modified data frame\n",
    "print(data[['fclass', 'operating_hours']])\n"
   ]
  },
  {
   "cell_type": "code",
   "execution_count": 5,
   "metadata": {},
   "outputs": [],
   "source": [
    "output_path = 'D:/GISCUP/Final/level2_EVCS.gpkg'  # Replace with your desired output path\n",
    "data.to_file(output_path, driver='GPKG')"
   ]
  },
  {
   "cell_type": "code",
   "execution_count": null,
   "metadata": {},
   "outputs": [],
   "source": [
    "import geopandas as gpd\n",
    "\n",
    "# Load the .gpkg file\n",
    "file_path = 'C:/Users/scsi/Documents/카카오톡 받은 파일/DCFC_merged_real_final.gpkg'  # Replace 'your_file_path.gpkg' with the path to your .gpkg file\n",
    "data = gpd.read_file(file_path)\n",
    "\n",
    "# Set operating hours to 24 for all entries\n",
    "data['operating_hours'] = 24\n",
    "\n",
    "# Output the modified data frame to check\n",
    "print(data[['fclass', 'operating_hours']])\n",
    "\n",
    "# Save the updated data back to a .gpkg file\n",
    "output_path = 'D:/GISCUP/Final/DCFC_EVCS.gpkg'  # Replace with your desired output path\n",
    "data.to_file(output_path, driver='GPKG')\n"
   ]
  }
 ],
 "metadata": {
  "kernelspec": {
   "display_name": "jiwan",
   "language": "python",
   "name": "python3"
  },
  "language_info": {
   "codemirror_mode": {
    "name": "ipython",
    "version": 3
   },
   "file_extension": ".py",
   "mimetype": "text/x-python",
   "name": "python",
   "nbconvert_exporter": "python",
   "pygments_lexer": "ipython3",
   "version": "3.10.14"
  }
 },
 "nbformat": 4,
 "nbformat_minor": 2
}
