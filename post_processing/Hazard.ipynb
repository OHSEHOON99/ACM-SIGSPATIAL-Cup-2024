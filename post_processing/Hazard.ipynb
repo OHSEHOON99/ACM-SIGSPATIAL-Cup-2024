{
 "cells": [
  {
   "cell_type": "markdown",
   "metadata": {},
   "source": [
    "# Hazard Map Generation"
   ]
  },
  {
   "cell_type": "code",
   "execution_count": null,
   "metadata": {},
   "outputs": [],
   "source": [
    "import rasterio\n",
    "import geopandas as gpd\n",
    "\n",
    "# 1. Load the GeoTIFF file\n",
    "tif_path = 'path_to_your_tif_file.tif'  # Replace with the actual file path\n",
    "\n",
    "with rasterio.open(tif_path) as tif:\n",
    "    tiff_data = tif.read(1)  # Read the first band of the TIFF file\n",
    "    tiff_transform = tif.transform  # Get the transformation matrix of the TIFF\n",
    "    tiff_crs = tif.crs  # Get the CRS (Coordinate Reference System)\n",
    "    tiff_meta = tif.meta  # Get the metadata of the TIFF\n",
    "\n",
    "print(\"TIFF data loaded:\")\n",
    "print(f\"Shape: {tiff_data.shape}\")\n",
    "print(f\"CRS: {tiff_crs}\")\n",
    "\n",
    "# 2. Load the Shapefile\n",
    "shp_path = 'path_to_your_shapefile.shp'  # Replace with the actual file path\n",
    "shapefile_data = gpd.read_file(shp_path)\n",
    "\n",
    "# Optional: Ensure the shapefile has the same CRS as the TIFF\n",
    "if shapefile_data.crs != tiff_crs:\n",
    "    shapefile_data = shapefile_data.to_crs(tiff_crs)\n",
    "\n",
    "print(\"Shapefile data loaded:\")\n",
    "print(f\"Number of features: {len(shapefile_data)}\")\n",
    "print(f\"CRS: {shapefile_data.crs}\")\n"
   ]
  },
  {
   "cell_type": "code",
   "execution_count": 33,
   "metadata": {},
   "outputs": [
    {
     "name": "stdout",
     "output_type": "stream",
     "text": [
      "New GeoTIFF with three bands saved to D:/GISCUP/Hazard/Output_With_Three_Bands_Excluding_Zero.tif\n"
     ]
    }
   ],
   "source": [
    "import numpy as np\n",
    "import rasterio\n",
    "\n",
    "# 1. Load the existing GeoTIFF to read its metadata and data\n",
    "tif_path = 'D:/GISCUP/Hazard/Output_D_POI_with_Hazard.tif'\n",
    "\n",
    "with rasterio.open(tif_path) as src:\n",
    "    first_band = src.read(1)  # First band (original data)\n",
    "    second_band = src.read(2)  # Second band (summed hazard values)\n",
    "    transform = src.transform  # Transformation matrix\n",
    "    crs = src.crs  # Coordinate Reference System (CRS)\n",
    "    meta = src.meta  # Metadata\n",
    "    width, height = src.width, src.height  # Dimensions of the TIFF\n",
    "\n",
    "# 2. Calculate the threshold for the bottom 5% of the first band (excluding zero values)\n",
    "non_zero_first_band = first_band[first_band > 0]  # Exclude 0 values\n",
    "\n",
    "if non_zero_first_band.size > 0:\n",
    "    first_band_threshold = np.quantile(non_zero_first_band, 0.10)  # Bottom 5% by quantity, excluding 0s\n",
    "else:\n",
    "    print(\"Warning: No non-zero values in first_band\")\n",
    "    first_band_threshold = 0  # Default or fallback value\n",
    "\n",
    "# Create a mask for pixels in the first band that are in the bottom 5% (excluding 0s)\n",
    "first_band_mask = (first_band > 0) & (first_band <= first_band_threshold)\n",
    "\n",
    "# 3. Calculate the threshold for the top 5% of the second band (excluding zeros)\n",
    "non_zero_second_band = second_band[second_band > 0]  # Exclude 0 values\n",
    "\n",
    "if non_zero_second_band.size > 0:\n",
    "    second_band_threshold = np.quantile(non_zero_second_band, 0.90)  # Top 5% by quantity\n",
    "else:\n",
    "    print(\"Warning: No non-zero values in second_band\")\n",
    "    second_band_threshold = 0  # Default or fallback value\n",
    "\n",
    "# Create a mask for pixels in the second band that are in the top 5%\n",
    "second_band_mask = (second_band > 0) & (second_band >= second_band_threshold)\n",
    "\n",
    "# 4. Create the third band where masks are applied with distinct values\n",
    "third_band = np.zeros_like(first_band, dtype=np.uint8)  # Initialize third band with zeros\n",
    "\n",
    "# Set values based on mask conditions\n",
    "third_band[first_band_mask & ~second_band_mask] = 100  # First band mask only\n",
    "third_band[second_band_mask & ~first_band_mask] = 150  # Second band mask only\n",
    "third_band[first_band_mask & second_band_mask] = 255   # Both masks overlap\n",
    "\n",
    "# 5. Prepare metadata for writing all three bands\n",
    "output_tif_path = 'D:/GISCUP/Hazard/Output_With_Three_Bands_Excluding_Zero.tif'\n",
    "\n",
    "new_meta = meta.copy()\n",
    "new_meta.update({\n",
    "    'count': 3,  # Three bands: first, second, and third\n",
    "    'dtype': 'uint8'  # Ensure the data type is correct\n",
    "})\n",
    "\n",
    "# 6. Write the new GeoTIFF file with all three bands\n",
    "with rasterio.open(output_tif_path, 'w', **new_meta) as dst:\n",
    "    dst.write(first_band, 1)  # Write the first band (original data)\n",
    "    dst.write(second_band, 2)  # Write the second band (summed hazard values)\n",
    "    dst.write(third_band, 3)  # Write the third band with distinct mask values\n",
    "\n",
    "print(f\"New GeoTIFF with three bands saved to {output_tif_path}\")\n"
   ]
  }
 ],
 "metadata": {
  "kernelspec": {
   "display_name": "jiwan",
   "language": "python",
   "name": "python3"
  },
  "language_info": {
   "codemirror_mode": {
    "name": "ipython",
    "version": 3
   },
   "file_extension": ".py",
   "mimetype": "text/x-python",
   "name": "python",
   "nbconvert_exporter": "python",
   "pygments_lexer": "ipython3",
   "version": "3.10.14"
  }
 },
 "nbformat": 4,
 "nbformat_minor": 2
}
