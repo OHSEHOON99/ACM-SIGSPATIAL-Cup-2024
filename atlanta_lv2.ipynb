{
 "cells": [
  {
   "cell_type": "code",
   "execution_count": null,
   "metadata": {},
   "outputs": [],
   "source": [
    "import geopandas as gpd\n",
    "\n",
    "from greedy_optimization import greedy_optimization\n",
    "from utils import setup_logging, merge_gpkg_files\n",
    "\n",
    "\n",
    "setup_logging()\n",
    "\n",
    "gpkg_file = \"/home/sehoon/Desktop/ACM-SIGSPATIAL-Cup-2024/data/suburban_trip_greedy.gpkg\"\n",
    "tif_file = \"/home/sehoon/Desktop/ACM-SIGSPATIAL-Cup-2024/data/demand_map_500.tif\"\n",
    "poi_file = \"/home/sehoon/Desktop/ACM-SIGSPATIAL-Cup-2024/data/Suburban_POI_Candidate.gpkg\"\n",
    "output_path = \"./results/\"\n",
    "\n",
    "# Read input files\n",
    "polygons = gpd.read_file(gpkg_file)\n",
    "poi_gdf = gpd.read_file(poi_file)\n",
    "\n",
    "for _, polygon in polygons.iterrows(): \n",
    "    greedy_optimization(\n",
    "        polygon, \n",
    "        tif_file, \n",
    "        poi_gdf, \n",
    "        capture_range=3000, \n",
    "        bandwidth=1000, \n",
    "        constraints=(1, None), \n",
    "        output_path=output_path,\n",
    "        save_intermediate=True\n",
    "    )\n",
    "\n",
    "# # Merge all GPKG files in the output path\n",
    "# merge_gpkg_files(output_path, output_file_name=\"suburban.gpkg\")"
   ]
  }
 ],
 "metadata": {
  "language_info": {
   "name": "python"
  }
 },
 "nbformat": 4,
 "nbformat_minor": 2
}
